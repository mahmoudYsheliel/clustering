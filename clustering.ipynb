{
  "cells": [
    {
      "cell_type": "markdown",
      "source": [
        "### import \n"
      ],
      "metadata": {
        "id": "ccAXPBTEvIg5"
      }
    },
    {
      "cell_type": "code",
      "source": [
        "import numpy as np\n",
        "from sklearn.metrics import accuracy_score\n",
        "from sklearn import datasets\n",
        "from sklearn.metrics import confusion_matrix\n",
        "import seaborn as sns\n",
        "import math\n",
        "from sklearn.model_selection import train_test_split"
      ],
      "metadata": {
        "id": "-t_YWWdS-v3V"
      },
      "execution_count": null,
      "outputs": []
    },
    {
      "cell_type": "markdown",
      "source": [
        "# implementation of K-mean"
      ],
      "metadata": {
        "id": "neNwE_9VcGU6"
      }
    },
    {
      "cell_type": "code",
      "source": [
        "def get_points(k,train_X):\n",
        "  n=1\n",
        "  mean=[np.mean(train) for train in np.transpose(train_X)]\n",
        "  points=np.zeros([k,len(mean)])\n",
        "  points[0][:]=mean\n",
        "  min=-5\n",
        "  max=5\n",
        "  while k>2*n:\n",
        "    for i in range(n):\n",
        "      for index ,number in enumerate(points[i]):\n",
        "            points[i+n][index]=number+np.random.randint(min,max)\n",
        "            points[i][index]=number+np.random.randint(min,max)\n",
        "    n=2*n\n",
        "    clusters=np.zeros([n,len(train_X),len(mean)])\n",
        "    count_in_each_cluster=np.zeros([n])\n",
        "    d=np.zeros([n])\n",
        "    for ind, data in enumerate(train_X):\n",
        "      for index,point in enumerate(points[0:n][:]):\n",
        "        d[index]=np.sum(np.power(np.subtract(point,data),2))\n",
        "      indx=np.argmin(d)\n",
        "      clusters[indx][ind][:]=data\n",
        "      count_in_each_cluster[indx]+=1\n",
        "    count_in_each_cluster\n",
        "    for i in range(n):\n",
        "      mean=[np.sum(train)/count_in_each_cluster[i] for train in np.transpose(clusters[i])]\n",
        "      points[i][:]=mean\n",
        "  remain=k-n\n",
        "  for i in range(remain):\n",
        "    ind=np.argmax(count_in_each_cluster)\n",
        "    for index ,number in enumerate(points[ind]):\n",
        "            points[n][index]=number+np.random.randint(min,max)\n",
        "            points[ind][index]=number+np.random.randint(min,max)\n",
        "    n=n+1\n",
        "    clusters=np.zeros([n,len(train_X),len(mean)])\n",
        "    count_in_each_cluster=np.zeros([n])\n",
        "    d=np.zeros([n])\n",
        "    for ind, data in enumerate(train_X):\n",
        "      for index,point in enumerate(points[0:n][:]):\n",
        "        d[index]=np.sum(np.power(np.subtract(point,data),2))\n",
        "      indx=np.argmin(d)\n",
        "      clusters[indx][ind][:]=data\n",
        "      count_in_each_cluster[indx]+=1\n",
        "    count_in_each_cluster\n",
        "    for i in range(n):\n",
        "      mean=[np.sum(train)/count_in_each_cluster[i] for train in np.transpose(clusters[i])]\n",
        "      points[i][:]=mean\n",
        "  return points"
      ],
      "metadata": {
        "id": "cZzOca9P4LaR"
      },
      "execution_count": null,
      "outputs": []
    },
    {
      "cell_type": "code",
      "source": [
        "def classify(iterations,k,train_X,points):\n",
        "  y_predict=np.zeros(len(train_X))\n",
        "  for i in range(iterations):\n",
        "    clusters=np.zeros([k,len(train_X),len(points[0])])\n",
        "    count_in_each_cluster=np.zeros([k])\n",
        "    d=np.zeros([k])\n",
        "    for ind, data in enumerate(train_X):\n",
        "      for index,point in enumerate(points[0:k][:]):\n",
        "        d[index]=np.sum(np.power(np.subtract(point,data),2))\n",
        "      indx=np.argmin(d)\n",
        "      clusters[indx][ind][:]=data\n",
        "      count_in_each_cluster[indx]+=1\n",
        "      y_predict[ind]=indx\n",
        "    for i in range(k):\n",
        "      mean=[np.sum(train)/count_in_each_cluster[i] for train in np.transpose(clusters[i])]\n",
        "      points[i][:]=mean\n",
        "  return y_predict"
      ],
      "metadata": {
        "id": "z7x8jEeyKZot"
      },
      "execution_count": null,
      "outputs": []
    },
    {
      "cell_type": "markdown",
      "source": [
        "# import the data"
      ],
      "metadata": {
        "id": "cS-JuMXzv0FB"
      }
    },
    {
      "cell_type": "code",
      "source": [
        "digits = datasets.load_digits() \n",
        "x_data = digits.images.reshape(len(digits.images),8*8)\n",
        "y_data = digits.target.copy()\n",
        "train_X , test_X ,train_y,test_y = train_test_split(x_data,y_data,test_size = 1/4 , shuffle = 1)"
      ],
      "metadata": {
        "id": "sKDtLmMjuG3k"
      },
      "execution_count": null,
      "outputs": []
    },
    {
      "cell_type": "markdown",
      "source": [
        "# test the model"
      ],
      "metadata": {
        "id": "qSvKSVe9Mojw"
      }
    },
    {
      "cell_type": "code",
      "source": [
        "k=10\n",
        "points=get_points(k,train_X)\n",
        "y_predict=classify(100,k,train_X,points)"
      ],
      "metadata": {
        "id": "b2y59KSG8Sp-"
      },
      "execution_count": null,
      "outputs": []
    },
    {
      "cell_type": "markdown",
      "source": [
        "## get the clustures"
      ],
      "metadata": {
        "id": "Ij5qAgO-MkLd"
      }
    },
    {
      "cell_type": "code",
      "source": [
        "sns.set()\n",
        "cm = confusion_matrix(train_y, y_predict)\n",
        "ax = sns.heatmap(cm, annot=True, fmt=\"d\", cmap=\"Blues\")\n",
        "map=np.zeros([10,2])\n",
        "for i in range(10):\n",
        "  map[i][0]=i\n",
        "  map[i][1]=np.argmax(cm[i][:])\n",
        "print('actual   predicted')\n",
        "map"
      ],
      "metadata": {
        "colab": {
          "base_uri": "https://localhost:8080/",
          "height": 459
        },
        "id": "I46LDrskNmqk",
        "outputId": "512ee8d9-3f01-427a-cd7b-a5848ba89d39"
      },
      "execution_count": null,
      "outputs": [
        {
          "output_type": "stream",
          "name": "stdout",
          "text": [
            "actual   predicted\n"
          ]
        },
        {
          "output_type": "execute_result",
          "data": {
            "text/plain": [
              "array([[0., 6.],\n",
              "       [1., 5.],\n",
              "       [2., 9.],\n",
              "       [3., 8.],\n",
              "       [4., 1.],\n",
              "       [5., 7.],\n",
              "       [6., 2.],\n",
              "       [7., 3.],\n",
              "       [8., 5.],\n",
              "       [9., 8.]])"
            ]
          },
          "metadata": {},
          "execution_count": 254
        },
        {
          "output_type": "display_data",
          "data": {
            "text/plain": [
              "<Figure size 432x288 with 2 Axes>"
            ],
            "image/png": "[encoded data removed]"
          },
          "metadata": {}
        }
      ]
    },
    {
      "cell_type": "markdown",
      "source": [
        "# accurcy test for clusturing"
      ],
      "metadata": {
        "id": "__ZtBD1UXCUp"
      }
    },
    {
      "cell_type": "code",
      "source": [
        "sum=0\n",
        "for ind,i in enumerate(train_y):\n",
        "  if map[i][1]==y_predict[ind]:\n",
        "    sum+=1\n",
        "print('accuracy of clusturing =',sum/len(train_y)*100, '%')"
      ],
      "metadata": {
        "colab": {
          "base_uri": "https://localhost:8080/"
        },
        "id": "q5yrUIvgU2w2",
        "outputId": "8a371333-7a20-4f2c-ac52-6d3c4d0c73c8"
      },
      "execution_count": null,
      "outputs": [
        {
          "output_type": "stream",
          "name": "stdout",
          "text": [
            "accuracy of clusturing = 76.39198218262806 %\n"
          ]
        }
      ]
    },
    {
      "cell_type": "markdown",
      "source": [
        "# NN implementation"
      ],
      "metadata": {
        "id": "vP79PkDNvUkn"
      }
    },
    {
      "cell_type": "code",
      "source": [
        "class out_layer:\n",
        "  def __init__(self,inputs_num,outputs_num):  # type 0 for hidden layer 1 for output layet\n",
        "    self.weigths=(np.random.rand(inputs_num,outputs_num)-0.5)\n",
        "  def forward(self,inputs):\n",
        "    self.net=np.dot(np.transpose( self.weigths),inputs)\n",
        "  def output_function(self): #defined as segmoid\n",
        "    o=[2**(-power) for power in  self.net]\n",
        "    self.outputs=[1/(n+1) for n in o]\n",
        "  def func_drev(self):\n",
        "    self.drev=[s*(1-s) for s in self.outputs]\n",
        "  def dE_dO_outpytlayer(self,output):\n",
        "    self.dE_dO=output-self.outputs\n",
        "  def get_delta(self):\n",
        "    self.delta=[-d*s for d,s in  zip( self.dE_dO,self.drev)]\n",
        "  def w_change(self,prev_out):\n",
        "    #self.delta_w=[-o*p for o,p in zip(prev_out,self.delta)]\n",
        "    self.delta_w=np.outer(prev_out,self.delta)\n",
        "  def update_w(self):\n",
        "    self.weigths=[ w-d for w,d in  zip(self.weigths,self.delta_w)]\n",
        "  def total_forward(self,inputs):\n",
        "    self.forward(inputs)\n",
        "    self.output_function()\n",
        "  def total_backword(self,output,prev_out):\n",
        "    self.func_drev()\n",
        "    self.dE_dO_outpytlayer(output)\n",
        "    self.get_delta()\n",
        "    self.w_change(prev_out)\n",
        "    self.update_w()\n",
        "######################################################\n",
        "class inner_layer:\n",
        "  def __init__(self,inputs_num,outputs_num):  # type 0 for hidden layer 1 for output layet\n",
        "    self.weigths=(np.random.rand(inputs_num,outputs_num)-0.5)\n",
        "  def forward(self,inputs):\n",
        "    self.net=np.dot(np.transpose(self.weigths),inputs)\n",
        "  def output_function(self): #defined as segmoid\n",
        "    o=[2**(-power) for power in  self.net]\n",
        "    self.outputs=[1/(n+1) for n in o]\n",
        "  def func_drev(self):\n",
        "    self.drev=[s*(1-s) for s in self.outputs]\n",
        "  def dE_dO_outpytlayer(self,nex_w,nex_delta):\n",
        "    self.dE_dO=-np.dot( nex_delta,np.transpose( nex_w))\n",
        "  def get_delta(self):\n",
        "    self.delta=[-d*s for d,s in  zip( self.dE_dO,self.drev)]\n",
        "  def w_change(self,prev_out):\n",
        "    self.delta_w=np.outer(prev_out,self.delta)\n",
        "  def update_w(self):\n",
        "    self.weigths=[ w-d*0.01 for w,d in  zip(self.weigths,self.delta_w)]\n",
        "  def total_forward(self,inputs):\n",
        "    self.forward(inputs)\n",
        "    self.output_function()\n",
        "  def total_backword(self,output,prev_out,nex_w,nex_delta):\n",
        "    self.func_drev()\n",
        "    self.dE_dO_outpytlayer(nex_w,nex_delta)\n",
        "    self.get_delta()\n",
        "    self.w_change(prev_out)\n",
        "    self.update_w()"
      ],
      "metadata": {
        "id": "YPDoT8W1uBMj"
      },
      "execution_count": null,
      "outputs": []
    },
    {
      "cell_type": "markdown",
      "source": [
        "# test the data with no clustuting"
      ],
      "metadata": {
        "id": "ezMqLAiHv4GT"
      }
    },
    {
      "cell_type": "code",
      "source": [
        "l11=inner_layer(64,200) #first layer 784 inputs 7 outputs\n",
        "l21=inner_layer(200,100) #second layer 7 inputs 5 outputs\n",
        "l31=out_layer(100,10) #final layer 5 inputs 1 output\n",
        "for j in range(20):\n",
        "  for inputs,index in zip(train_X,train_y): # take the total data to train the model\n",
        "    output=np.zeros(10)\n",
        "    output[index]=1\n",
        "    l11.total_forward(inputs)\n",
        "    l21.total_forward(l11.outputs)\n",
        "    l31.total_forward(l21.outputs)\n",
        "    l31.total_backword(output,l21.outputs)\n",
        "    l21.total_backword(l31.outputs,l11.outputs,l31.weigths,l31.delta)\n",
        "    l11.total_backword(output,inputs,l21.weigths,l21.delta)\n",
        "    #test the model\n",
        "number_of_correct_detection=0\n",
        "for x,y in zip(test_X,test_y):\n",
        "  l11.total_forward(x)\n",
        "  l21.total_forward(l11.outputs)\n",
        "  l31.total_forward(l21.outputs)\n",
        "  if np.argmax(l31.outputs)==y:\n",
        "      number_of_correct_detection+=1\n",
        "print('correcet detection percentage = ',number_of_correct_detection/len(test_y)*100 ,'%')"
      ],
      "metadata": {
        "colab": {
          "base_uri": "https://localhost:8080/"
        },
        "id": "DXujjqYBuJc0",
        "outputId": "c58f1ec5-849a-44b9-f7fc-663f7090b071"
      },
      "execution_count": null,
      "outputs": [
        {
          "output_type": "stream",
          "name": "stdout",
          "text": [
            "correcet detection percentage =  97.55555555555556 %\n"
          ]
        }
      ]
    },
    {
      "cell_type": "markdown",
      "source": [
        "# test the clusting on test data "
      ],
      "metadata": {
        "id": "7pMVhNnbXPLt"
      }
    },
    {
      "cell_type": "code",
      "source": [
        "test_clusters=np.zeros(len(test_y))\n",
        "for ind,i in enumerate(test_y):\n",
        "  test_clusters[ind]=map[i][1]"
      ],
      "metadata": {
        "id": "xh28PoK7YnJm"
      },
      "execution_count": null,
      "outputs": []
    },
    {
      "cell_type": "code",
      "source": [
        "l11=inner_layer(64,200) #first layer 784 inputs 7 outputs\n",
        "l21=inner_layer(200,100) #second layer 7 inputs 5 outputs\n",
        "l31=out_layer(100,10) #final layer 5 inputs 1 output\n",
        "for j in range(20):\n",
        "  for inputs,index in zip(train_X,y_predict): # take the total data to train the model\n",
        "    output=np.zeros(10)\n",
        "    output[int(index)]=1\n",
        "    l11.total_forward(inputs)\n",
        "    l21.total_forward(l11.outputs)\n",
        "    l31.total_forward(l21.outputs)\n",
        "    l31.total_backword(output,l21.outputs)\n",
        "    l21.total_backword(l31.outputs,l11.outputs,l31.weigths,l31.delta)\n",
        "    l11.total_backword(output,inputs,l21.weigths,l21.delta)\n",
        "    #test the model\n",
        "number_of_correct_detection_cluster=0\n",
        "actual_correct=0\n",
        "counter=0\n",
        "for x,y in zip(test_X,test_clusters):\n",
        "  l11.total_forward(x)\n",
        "  l21.total_forward(l11.outputs)\n",
        "  l31.total_forward(l21.outputs)\n",
        "  if np.argmax(l31.outputs)==y:\n",
        "      number_of_correct_detection_cluster+=1\n",
        "  if np.argmax(l31.outputs)== map[test_y[counter]][1]:\n",
        "      actual_correct+=1\n",
        "  counter+=1\n",
        "print('correcet detection percentage according to the cluster only= ',number_of_correct_detection_cluster/len(test_y)*100 ,'%')\n",
        "print('actual correcet detection percentage = ',actual_correct/len(test_y)*100 ,'%')"
      ],
      "metadata": {
        "colab": {
          "base_uri": "https://localhost:8080/"
        },
        "id": "LTv1gyxTWwFU",
        "outputId": "ad283ccc-fda3-4cb8-c943-12ea1f3614e3"
      },
      "execution_count": null,
      "outputs": [
        {
          "output_type": "stream",
          "name": "stdout",
          "text": [
            "correcet detection percentage according to the cluster only=  78.44444444444446 %\n",
            "actual correcet detection percentage =  78.44444444444446 %\n"
          ]
        }
      ]
    }
  ],
  "metadata": {
    "colab": {
      "provenance": []
    },
    "kernelspec": {
      "display_name": "Python 3",
      "language": "python",
      "name": "python3"
    },
    "language_info": {
      "codemirror_mode": {
        "name": "ipython",
        "version": 3
      },
      "file_extension": ".py",
      "mimetype": "text/x-python",
      "name": "python",
      "nbconvert_exporter": "python",
      "pygments_lexer": "ipython3",
      "version": "3.8.8"
    }
  },
  "nbformat": 4,
  "nbformat_minor": 0
}